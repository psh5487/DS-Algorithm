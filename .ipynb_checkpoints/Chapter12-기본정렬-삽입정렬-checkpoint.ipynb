{
 "cells": [
  {
   "cell_type": "markdown",
   "metadata": {},
   "source": [
    "## 기본 정렬3 : 삽입 정렬 (Insertion Sort) "
   ]
  },
  {
   "cell_type": "markdown",
   "metadata": {},
   "source": [
    "### 1. 삽입 정렬 (insertion sort) 과정\n",
    "\n",
    "* 삽입 정렬은 **두 번째 인덱스**부터 시작\n",
    "* 해당 인덱스 **앞**에 있는 데이터를 하나씩 비교\n",
    "* 데이터를 한 칸 씩 뒤로 밀기 or 삽입\n",
    "\n",
    "<img src=\"https://upload.wikimedia.org/wikipedia/commons/9/9c/Insertion-sort-example.gif\" />\n",
    "\n",
    "참고: https://visualgo.net/en/sorting\n",
    "출처: https://commons.wikimedia.org/wiki/File:Insertion-sort-example.gif"
   ]
  },
  {
   "cell_type": "markdown",
   "metadata": {},
   "source": [
    "### 2. 알고리즘 구현 (방법1: 정통적 방법)"
   ]
  },
  {
   "cell_type": "code",
   "execution_count": 27,
   "metadata": {},
   "outputs": [],
   "source": [
    "def insertion_sort(data):\n",
    "    for i in range(1, len(data)):\n",
    "        \n",
    "        check_data = data[i]\n",
    "        j = i\n",
    "        \n",
    "        while j > 0 and check_data < data[j-1]:\n",
    "            data[j] = data[j-1]\n",
    "            j -= 1\n",
    "            \n",
    "        data[j] = check_data\n",
    "            \n",
    "    return data"
   ]
  },
  {
   "cell_type": "code",
   "execution_count": 28,
   "metadata": {},
   "outputs": [
    {
     "name": "stdout",
     "output_type": "stream",
     "text": [
      "[41, 85, 97, 63, 75, 13, 16, 82, 53, 27, 15, 47, 76, 45, 34]\n",
      "[13, 15, 16, 27, 34, 41, 45, 47, 53, 63, 75, 76, 82, 85, 97]\n",
      "[13, 15, 16, 27, 34, 41, 45, 47, 53, 63, 75, 76, 82, 85, 97]\n"
     ]
    }
   ],
   "source": [
    "import random\n",
    "\n",
    "data_list = random.sample(range(100), 15)\n",
    "print(data_list)\n",
    "print(sorted(data_list))\n",
    "print(insertion_sort(data_list))"
   ]
  },
  {
   "cell_type": "code",
   "execution_count": 16,
   "metadata": {},
   "outputs": [
    {
     "name": "stdout",
     "output_type": "stream",
     "text": [
      "5\n",
      "3\n",
      "1\n",
      "1\n"
     ]
    }
   ],
   "source": [
    "## 주의 \n",
    "for i in range(5, -1, -2):\n",
    "    print(i)\n",
    "    \n",
    "print(i)"
   ]
  },
  {
   "cell_type": "markdown",
   "metadata": {},
   "source": [
    "### 2. 알고리즘 구현 (방법 2: swap 사용하기)"
   ]
  },
  {
   "cell_type": "code",
   "execution_count": 29,
   "metadata": {},
   "outputs": [],
   "source": [
    "def insert_sort(data):\n",
    "    for i in range(len(data)):\n",
    "        for j in range(i, 0, -1):\n",
    "            if data[j - 1] > data[j]:\n",
    "                data[j], data[j - 1] = data[j - 1], data[j]\n",
    "            else:\n",
    "                break\n",
    "    return data"
   ]
  },
  {
   "cell_type": "code",
   "execution_count": 30,
   "metadata": {},
   "outputs": [
    {
     "name": "stdout",
     "output_type": "stream",
     "text": [
      "[19, 61, 12, 37, 90, 55, 13, 39, 98, 87, 38, 99, 20, 57, 33]\n",
      "[12, 13, 19, 20, 33, 37, 38, 39, 55, 57, 61, 87, 90, 98, 99]\n",
      "[12, 13, 19, 20, 33, 37, 38, 39, 55, 57, 61, 87, 90, 98, 99]\n"
     ]
    }
   ],
   "source": [
    "import random\n",
    "\n",
    "data_list = random.sample(range(100), 15)\n",
    "print(data_list)\n",
    "print(sorted(data_list))\n",
    "print(insert_sort(data_list))"
   ]
  },
  {
   "cell_type": "markdown",
   "metadata": {},
   "source": [
    "### 3. 알고리즘 분석\n",
    "\n",
    "* 시간 복잡도\n",
    "    * worst: O($n^2$)\n",
    "        - 반복문이 2개\n",
    "    * best: 완전 정렬이 되어 있는 상태라면, O(n)"
   ]
  },
  {
   "cell_type": "markdown",
   "metadata": {},
   "source": [
    "* 특징 \n",
    "    * 성능이 괜찮은 편이라 가끔 사용됨 \n",
    "    * 데이터 상태에 따라 시간 복잡도 편차가 큼"
   ]
  }
 ],
 "metadata": {
  "kernelspec": {
   "display_name": "Python 3",
   "language": "python",
   "name": "python3"
  },
  "language_info": {
   "codemirror_mode": {
    "name": "ipython",
    "version": 3
   },
   "file_extension": ".py",
   "mimetype": "text/x-python",
   "name": "python",
   "nbconvert_exporter": "python",
   "pygments_lexer": "ipython3",
   "version": "3.7.4"
  },
  "nbTranslate": {
   "displayLangs": [
    "*"
   ],
   "hotkey": "alt-t",
   "langInMainMenu": true,
   "sourceLang": "en",
   "targetLang": "fr",
   "useGoogleTranslate": true
  }
 },
 "nbformat": 4,
 "nbformat_minor": 1
}
