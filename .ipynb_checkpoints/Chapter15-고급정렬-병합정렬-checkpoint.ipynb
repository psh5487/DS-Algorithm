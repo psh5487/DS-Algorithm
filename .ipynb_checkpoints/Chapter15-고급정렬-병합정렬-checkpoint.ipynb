{
 "cells": [
  {
   "cell_type": "markdown",
   "metadata": {},
   "source": [
    "## 대표적인 정렬4 : 병합 정렬 (Merge Sort) "
   ]
  },
  {
   "cell_type": "markdown",
   "metadata": {},
   "source": [
    "### 1. 병합 정렬 (merge sort)  과정\n",
    "\n",
    "* 재귀용법을 활용한 정렬 알고리즘\n",
    "  1. 리스트를 절반으로 잘라 비슷한 크기의 **두 부분 리스트로 나눈다**.(재귀)\n",
    "  2. 두 부분 리스트는 정렬 과정을 거치며, 하나의 리스트로 **병합**한다.\n",
    "\n",
    "<img src=\"https://upload.wikimedia.org/wikipedia/commons/c/cc/Merge-sort-example-300px.gif\" width=500/>\n",
    "\n",
    "출처: https://ko.wikipedia.org/wiki/%ED%95%A9%EB%B3%91_%EC%A0%95%EB%A0%AC"
   ]
  },
  {
   "cell_type": "markdown",
   "metadata": {},
   "source": [
    "### 2. 알고리즘 이해\n",
    "* 데이터가 네 개 일때 (데이터 갯수에 따라 복잡도가 떨어지는 것은 아니므로, 네 개로 바로 로직을 이해해보자.)\n",
    "  - 예: data_list = [1, 9, 3, 2]\n",
    "    - 먼저 [1, 9], [3, 2] 로 나누고\n",
    "    - 다시 앞 부분은 [1], [9] 로 나누고\n",
    "    - 다시 정렬해서 합친다. [1, 9]\n",
    "    - 다음 [3, 2] 는 [3], [2] 로 나누고\n",
    "    - 다시 정렬해서 합친다 [2, 3]\n",
    "    - 이제 [1, 9] 와 [2, 3]을 합친다.\n",
    "      - 1 < 2 이니 [1]\n",
    "      - 9 > 2 이니 [1, 2]\n",
    "      - 9 > 3 이니 [1, 2, 3]\n",
    "      - 9 밖에 없으니, [1, 2, 3, 9]"
   ]
  },
  {
   "cell_type": "markdown",
   "metadata": {},
   "source": [
    "### 3. 알고리즘 구현하기 "
   ]
  },
  {
   "cell_type": "code",
   "execution_count": 3,
   "metadata": {},
   "outputs": [],
   "source": [
    "def merge(left, right):\n",
    "    merged = list()\n",
    "    left_point, right_point = 0, 0\n",
    "    \n",
    "    # case1 - left/right 둘다 있을때\n",
    "    while len(left) > left_point and len(right) > right_point:\n",
    "        if left[left_point] > right[right_point]:\n",
    "            merged.append(right[right_point])\n",
    "            right_point += 1\n",
    "        else:\n",
    "            merged.append(left[left_point])\n",
    "            left_point += 1\n",
    "\n",
    "    # case2 - left 데이터만 남아 있을 때\n",
    "    while left_point < len(left):\n",
    "        merged.append(left[left_point])\n",
    "        left_point += 1\n",
    "        \n",
    "    # case3 - right 데이터만 남아 있을 때 \n",
    "    while right_point < len(right):\n",
    "        merged.append(right[right_point])\n",
    "        right_point += 1\n",
    "    \n",
    "    return merged\n",
    "\n",
    "\n",
    "# 첫 번째 단계, 두 부분으로 Split 하기\n",
    "def mergesplit(data):\n",
    "    \n",
    "    # 배열 길이가 1이면 나누기 재귀 종료\n",
    "    if len(data) <= 1:\n",
    "        return data\n",
    "    \n",
    "    medium = int(len(data) / 2)\n",
    "    \n",
    "    left = mergesplit(data[:medium])\n",
    "    right = mergesplit(data[medium:])\n",
    "    \n",
    "    return merge(left, right)"
   ]
  },
  {
   "cell_type": "code",
   "execution_count": 5,
   "metadata": {},
   "outputs": [
    {
     "name": "stdout",
     "output_type": "stream",
     "text": [
      "[66, 40, 8, 81, 19, 10, 93, 51, 79, 13]\n",
      "[8, 10, 13, 19, 40, 51, 66, 79, 81, 93]\n",
      "[8, 10, 13, 19, 40, 51, 66, 79, 81, 93]\n"
     ]
    }
   ],
   "source": [
    "import random\n",
    "data_list = random.sample(range(100), 10)\n",
    "\n",
    "print(data_list)\n",
    "print(sorted(data_list))\n",
    "print(mergesplit(data_list))"
   ]
  },
  {
   "cell_type": "markdown",
   "metadata": {},
   "source": [
    "### 4. 알고리즘 분석\n",
    "\n",
    "* 시간 복잡도: 일정하게, O(N logN)\n",
    "  - 원리\n",
    "    - 몇 단계 깊이까지 만들어지는지를 depth 라고 하고 i로 놓자. 맨 위 단계는 0으로 놓자.\n",
    "      - 다음 그림에서 n/$2^2$ 는 2단계 깊이라고 해보자.\n",
    "      - 각 단계에 있는 하나의 노드 안의 리스트 길이는 n/$2^2$ 가 된다.\n",
    "      - 각 단계에는 $2^i$ 개의 노드가 있다.\n",
    "    - 따라서, 각 단계는 항상 <font size=4em>$2^i * \\frac { n }{ 2^i }$ = O(n)</font>\n",
    "    - 단계는 항상 $log_2 n$ 개 만큼 만들어짐 -> O(log n)\n",
    "    - 따라서, 시간 복잡도 O(n) * O(log n) = O(n log n)\n",
    "\n",
    "<img src=\"https://www.fun-coding.org/00_Images/mergesortcomplexity.png\" width=300/>"
   ]
  },
  {
   "cell_type": "markdown",
   "metadata": {},
   "source": [
    "* 특징\n",
    "    - 무조건 절반으로 분할하기 때문에 성능이 일정하다.\n",
    "    - 가장 큰 단점은 **추가적인 메모리 필요**하다는 점 "
   ]
  }
 ],
 "metadata": {
  "kernelspec": {
   "display_name": "Python 3",
   "language": "python",
   "name": "python3"
  },
  "language_info": {
   "codemirror_mode": {
    "name": "ipython",
    "version": 3
   },
   "file_extension": ".py",
   "mimetype": "text/x-python",
   "name": "python",
   "nbconvert_exporter": "python",
   "pygments_lexer": "ipython3",
   "version": "3.7.4"
  },
  "nbTranslate": {
   "displayLangs": [
    "*"
   ],
   "hotkey": "alt-t",
   "langInMainMenu": true,
   "sourceLang": "en",
   "targetLang": "fr",
   "useGoogleTranslate": true
  }
 },
 "nbformat": 4,
 "nbformat_minor": 1
}
