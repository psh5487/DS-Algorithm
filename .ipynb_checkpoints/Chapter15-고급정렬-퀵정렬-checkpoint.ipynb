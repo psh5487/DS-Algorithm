{
 "cells": [
  {
   "cell_type": "markdown",
   "metadata": {},
   "source": [
    "## 대표적인 정렬5 : 퀵 정렬 (Quick Sort) "
   ]
  },
  {
   "cell_type": "markdown",
   "metadata": {},
   "source": [
    "### 1. 퀵 정렬 (quick sort) 과정\n",
    "\n",
    "* <font color='#BF360C'>정렬 알고리즘의 꽃</font>\n",
    "* 분할 정복 알고리즘 사용\n",
    "<br><br>\n",
    "\n",
    "* **기준점(pivot)** 정하기\n",
    "* 기준점보다 작은 데이터는 왼쪽(left), 큰 데이터는 오른쪽(right)으로 **분리**\n",
    "* 각 왼쪽(left), 오른쪽(right)은 **재귀용법**을 사용해서 다시 동일 함수를 호출하여 위 작업을 반복"
   ]
  },
  {
   "cell_type": "markdown",
   "metadata": {},
   "source": [
    "### 2. 알고리즘 구현 (방법 1. 정통적 방법 - swap 사용하기)\n",
    "\n",
    "* pivot 정하기  \n",
    "\n",
    "* low를 오른쪽으로 이동하며, pivot 보다 큰 값 찾기\n",
    "* high를 왼쪽으로 이동하며, pivot 보다 작은 값 찾기 \n",
    "* low와 high 가 교차되지 않은 상태라면, 각각의 인덱스에 해당하는 값 **swap** (분리 단계) \n",
    "\n",
    "* low와 high 가 교차되면, pivot과 high 가리키는 값 swap -> **parition_point** 설정됨  \n",
    "* parition_point를 기준으로 왼쪽 부분, 오른쪽 부분 나누어 재귀적으로 위 과정 반복  "
   ]
  },
  {
   "cell_type": "code",
   "execution_count": 3,
   "metadata": {},
   "outputs": [],
   "source": [
    "# 두 부분으로 나누기 위한 pivot 값 찾기 함수 \n",
    "def partition(list, start, end):\n",
    "    \n",
    "    # pivot 위치는 가장 왼쪽으로 설정 \n",
    "    pivot = list[start]\n",
    "    low = start + 1\n",
    "    high = end\n",
    "    \n",
    "    # low와 high 가 교차되지 않을 때까지 반복 \n",
    "    while low <= high:\n",
    "        \n",
    "        # pivot 보다 큰 값 찾을 때까지 low 이동\n",
    "        while low <= end and pivot >= list[low]:\n",
    "            low += 1\n",
    "        # pivot 보다 작은 값 찾을 때까지 high 이동   \n",
    "        while high >= (start+1) and pivot <= list[high]:\n",
    "            high -= 1\n",
    "            \n",
    "        # 교차되지 않은 상태라면, low와 high 가 가리키는 것 swap \n",
    "        if low <= high:\n",
    "            list[low], list[high] = list[high], list[low]    \n",
    "    \n",
    "    # 위 과정 후, low와 high는 교차된 상태 \n",
    "    # start(pivot 가리키고 있음)와 high가 가리키는 대상 swap \n",
    "    list[start], list[high] = list[high], list[start]\n",
    "    \n",
    "    # 두 부분으로 나눌 기준 설정 \n",
    "    partition_point = high\n",
    "    \n",
    "    return partition_point\n",
    "\n",
    "\n",
    "def quick_sort(list, start, end):\n",
    "    \n",
    "    # sublist가 1개일 때까지 실행 \n",
    "    # len(list) 대신 start, end 로 sublist 표현 \n",
    "    if start <= end:\n",
    "        \n",
    "        pivot = partition(list, start, end)\n",
    "        \n",
    "        quick_sort(list, start, pivot-1)\n",
    "        quick_sort(list, pivot+1, end)\n",
    "        \n",
    "    return list"
   ]
  },
  {
   "cell_type": "code",
   "execution_count": 4,
   "metadata": {},
   "outputs": [
    {
     "name": "stdout",
     "output_type": "stream",
     "text": [
      "[9, 99, 60, 16, 64, 80, 14, 42, 61, 15]\n",
      "[9, 14, 15, 16, 42, 60, 61, 64, 80, 99]\n",
      "[9, 14, 15, 16, 42, 60, 61, 64, 80, 99]\n"
     ]
    }
   ],
   "source": [
    "import random\n",
    "data_list = random.sample(range(100), 10)\n",
    "\n",
    "print(data_list)\n",
    "print(sorted(data_list))\n",
    "print(quick_sort(data_list, 0, len(data_list)-1))"
   ]
  },
  {
   "cell_type": "markdown",
   "metadata": {},
   "source": [
    "### 2. 알고리즘 구현 (방법2. python  style)\n",
    "\n",
    "- 기준점(pivot) 정하기\n",
    "- **left, right 리스트 변수 만들기**\n",
    "- 데이터를 기준점과 비교하며 분리\n",
    "- 왼쪽(left) + 기준점(pivot) + 오른쪽(right) 을 리턴함"
   ]
  },
  {
   "cell_type": "code",
   "execution_count": 5,
   "metadata": {},
   "outputs": [],
   "source": [
    "def qsort(data):\n",
    "    if len(data) <= 1:\n",
    "        return data\n",
    "    \n",
    "    # pivot 설정 \n",
    "    pivot = data[0]\n",
    "    \n",
    "    # pivot을 중심으로 두 부분 나누기 \n",
    "    left, right = list(), list()\n",
    "    \n",
    "    for i in range(1, len(data)):\n",
    "        if pivot > data[i]:\n",
    "            left.append(data[i])\n",
    "        else:\n",
    "            right.append(data[i])\n",
    "    \n",
    "    # 리스트로 만들어서 리턴\n",
    "    return qsort(left) + [pivot] + qsort(right)"
   ]
  },
  {
   "cell_type": "code",
   "execution_count": 7,
   "metadata": {},
   "outputs": [
    {
     "name": "stdout",
     "output_type": "stream",
     "text": [
      "[79, 13, 82, 42, 0, 14, 46, 99, 83, 58]\n",
      "[0, 13, 14, 42, 46, 58, 79, 82, 83, 99]\n",
      "[0, 13, 14, 42, 46, 58, 79, 82, 83, 99]\n"
     ]
    }
   ],
   "source": [
    "import random\n",
    "data_list = random.sample(range(100), 10)\n",
    "\n",
    "print(data_list)\n",
    "print(sorted(data_list))\n",
    "print(qsort(data_list))"
   ]
  },
  {
   "cell_type": "markdown",
   "metadata": {
    "solution2": "hidden",
    "solution2_first": true
   },
   "source": [
    "<div class=\"alert alert-block alert-warning\">\n",
    "<strong><font color=\"blue\" size=\"4em\">프로그래밍 연습</font></strong><br>\n",
    "위 코드를 파이썬 list comprehension을 사용해서 더 깔끔하게 작성해보기<br>\n",
    "</div>"
   ]
  },
  {
   "cell_type": "code",
   "execution_count": 8,
   "metadata": {},
   "outputs": [],
   "source": [
    "def qsort2(data):\n",
    "    if len(data) <= 1:\n",
    "        return data\n",
    "    \n",
    "    pivot = data[0]\n",
    "\n",
    "    left = [ item for item in data[1:] if pivot > item ]\n",
    "    right = [ item for item in data[1:] if pivot <= item ]\n",
    "    \n",
    "    return qsort(left) + [pivot] + qsort(right)"
   ]
  },
  {
   "cell_type": "code",
   "execution_count": 9,
   "metadata": {},
   "outputs": [
    {
     "name": "stdout",
     "output_type": "stream",
     "text": [
      "[74, 12, 90, 96, 54, 44, 27, 25, 2, 32]\n",
      "[2, 12, 25, 27, 32, 44, 54, 74, 90, 96]\n",
      "[2, 12, 25, 27, 32, 44, 54, 74, 90, 96]\n"
     ]
    }
   ],
   "source": [
    "import random\n",
    "data_list = random.sample(range(100), 10)\n",
    "\n",
    "print(data_list)\n",
    "print(sorted(data_list))\n",
    "print(qsort2(data_list))"
   ]
  },
  {
   "cell_type": "markdown",
   "metadata": {
    "collapsed": true
   },
   "source": [
    "### 3. 알고리즘 분석\n",
    "\n",
    "* 시간 복잡도 : O(n log n)\n",
    "    * worst: O($n^2$)\n",
    "        - pivot 에 따라 시간 복잡도 편차가 큼 \n",
    "        - pivot이 가장 크거나, 가장 작으면 모든 데이터를 비교하는 상황이 나옴\n",
    "        - 이미 정렬된 데이터에 대해서 성능이 좋지 못함 "
   ]
  },
  {
   "cell_type": "markdown",
   "metadata": {},
   "source": [
    "* 특징 \n",
    "    - 병합 정렬 : 다 쪼개 놓고 합칠 때 정렬 \n",
    "    - 퀵 정렬: 쪼깰 때 정렬함\n",
    "    <br><br>\n",
    "    \n",
    "    - 방법 1: swap 사용으로 Unstable\n",
    "    - 방법 2: 추가적인 메모리를 사용하지만, Stable"
   ]
  },
  {
   "cell_type": "code",
   "execution_count": null,
   "metadata": {},
   "outputs": [],
   "source": []
  }
 ],
 "metadata": {
  "kernelspec": {
   "display_name": "Python 3",
   "language": "python",
   "name": "python3"
  },
  "language_info": {
   "codemirror_mode": {
    "name": "ipython",
    "version": 3
   },
   "file_extension": ".py",
   "mimetype": "text/x-python",
   "name": "python",
   "nbconvert_exporter": "python",
   "pygments_lexer": "ipython3",
   "version": "3.7.4"
  },
  "nbTranslate": {
   "displayLangs": [
    "*"
   ],
   "hotkey": "alt-t",
   "langInMainMenu": true,
   "sourceLang": "en",
   "targetLang": "fr",
   "useGoogleTranslate": true
  }
 },
 "nbformat": 4,
 "nbformat_minor": 1
}
