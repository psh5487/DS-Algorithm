{
 "cells": [
  {
   "cell_type": "markdown",
   "metadata": {},
   "source": [
    "## 힙 정렬 (Heap Sort)"
   ]
  },
  {
   "cell_type": "markdown",
   "metadata": {},
   "source": [
    "### 1. 힙 정렬 과정"
   ]
  },
  {
   "cell_type": "markdown",
   "metadata": {},
   "source": [
    "1. 정렬되지 않은 배열을 Heap 으로 변환 (Build Heap)\n",
    "    - 최초 힙 구성시 배열의 중간부터 시작하면, 이진트리 성질에 의해 모든 요소값을 비교할 수 있게 됨 : O(n)         \n",
    "2. 최대 힙의 루트노드(=최댓값)와 말단노드(=현재 배열의 마지막 요소)를 교환\n",
    "3. 새 루트노드에 대해 최대 힙을 구성\n",
    "4. 원소의 개수만큼 2와 3을 반복 수행"
   ]
  },
  {
   "cell_type": "markdown",
   "metadata": {},
   "source": [
    "### 2. 참고 사이트 \n",
    "- https://ratsgo.github.io/data%20structure&algorithm/2017/09/27/heapsort/"
   ]
  },
  {
   "cell_type": "markdown",
   "metadata": {},
   "source": [
    "### 3. 알고리즘 구현하기"
   ]
  },
  {
   "cell_type": "code",
   "execution_count": 17,
   "metadata": {},
   "outputs": [],
   "source": [
    "def heapify(unsorted, index, last_index):\n",
    "    \n",
    "    # 가장 큰 값 담긴 index 찾기 \n",
    "    checking_index = index\n",
    "    \n",
    "    left_index = 2 * index\n",
    "    right_index = 2 * index + 1\n",
    "    \n",
    "    if left_index < last_index and unsorted[left_index] > unsorted[checking_index]:\n",
    "        checking_index = left_index\n",
    "    \n",
    "    if right_index < last_index and unsorted[right_index] > unsorted[checking_index]:\n",
    "        checking_index = right_index\n",
    "    \n",
    "    if checking_index != index:\n",
    "        unsorted[checking_index], unsorted[index] = unsorted[index], unsorted[checking_index]\n",
    "        heapify(unsorted, checking_index, last_index)\n",
    "        \n",
    "        \n",
    "def heap_sort(unsorted):\n",
    "    \n",
    "    # 인덱스 1부터 시작할 수 있도록 \n",
    "    unsorted = [-1] + unsorted\n",
    "\n",
    "    n = len(unsorted) - 1\n",
    "    \n",
    "    # Build Max_Heap : 1단계 \n",
    "    # 인덱스 : 1~(n을 2로 나눈 몫)\n",
    "    for i in range(n//2, 0, -1):\n",
    "        heapify(unsorted, i, n)\n",
    "        \n",
    "    # Swap & heapify : 2~4단계\n",
    "    for i in range(n, 0, -1):\n",
    "        unsorted[1], unsorted[i] = unsorted[i], unsorted[1]\n",
    "        heapify(unsorted, 1, i)\n",
    "    \n",
    "    return unsorted"
   ]
  },
  {
   "cell_type": "code",
   "execution_count": 18,
   "metadata": {},
   "outputs": [
    {
     "data": {
      "text/plain": [
       "[-1, 0, 1, 2, 3, 4, 5, 5, 6, 7, 8, 9]"
      ]
     },
     "execution_count": 18,
     "metadata": {},
     "output_type": "execute_result"
    }
   ],
   "source": [
    "#  Sample Input: [8,5,3,1,9,6,0,7,4,2,5]\n",
    "#  Sample Output: [0,1,2,3,4,5,5,6,7,8,9]\n",
    "\n",
    "data = [8,5,3,1,9,6,0,7,4,2,5]\n",
    "heap_sort(data)"
   ]
  },
  {
   "cell_type": "markdown",
   "metadata": {},
   "source": [
    "### 4. 알고리즘 분석"
   ]
  },
  {
   "cell_type": "markdown",
   "metadata": {},
   "source": [
    "* 시간 복잡도 : 일정하게 O( nlog(n) )\n",
    "    - 한번 힙이 구성되면, 개별 노드는 최악의 경우에도 트리의 높이(logn)만큼 자리 이동\n",
    "    - 이런 노드들이 n개 있음 -> O(nlogn)"
   ]
  },
  {
   "cell_type": "markdown",
   "metadata": {},
   "source": [
    "* 특징 \n",
    "    * 추가적인 메모리를 필요로 하지 않음 \n",
    "    * Swap 이 자주 발생 -> Unstable"
   ]
  }
 ],
 "metadata": {
  "kernelspec": {
   "display_name": "Python 3",
   "language": "python",
   "name": "python3"
  },
  "language_info": {
   "codemirror_mode": {
    "name": "ipython",
    "version": 3
   },
   "file_extension": ".py",
   "mimetype": "text/x-python",
   "name": "python",
   "nbconvert_exporter": "python",
   "pygments_lexer": "ipython3",
   "version": "3.7.4"
  }
 },
 "nbformat": 4,
 "nbformat_minor": 2
}
