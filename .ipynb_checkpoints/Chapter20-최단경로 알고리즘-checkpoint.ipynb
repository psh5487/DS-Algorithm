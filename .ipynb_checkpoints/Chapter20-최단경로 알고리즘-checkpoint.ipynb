{
 "cells": [
  {
   "cell_type": "markdown",
   "metadata": {},
   "source": [
    "## 최단 경로 알고리즘"
   ]
  },
  {
   "cell_type": "markdown",
   "metadata": {},
   "source": [
    "### 1.1. 최단 경로 문제란?\n",
    "- 두 노드를 잇는 가장 짧은 경로를 찾기\n",
    "- 가중치 그래프 (Weighted Graph)에서, 간선(Edge)의 가중치 합이 최소가 되는 경로를 찾기 "
   ]
  },
  {
   "cell_type": "markdown",
   "metadata": {},
   "source": [
    "### 1.2. 최단 경로 문제 종류\n",
    "1. 단일 출발 및 단일 도착 (Single-Source and Single-Destination Shortest Path Problem) 최단 경로 문제\n",
    "  - 그래프 내의 특정 노드 u 에서 출발, 또다른 특정 노드 v 에 도착하는 가장 짧은 경로를 찾는 문제\n",
    "<br><br>\n",
    "2. 단일 출발 (Single-Source Shortest Path Problem) 최단 경로 문제\n",
    "  - 그래프 내의 특정 노드 u 와 그래프 내 모든 다른 노드의 가장 짧은 경로를 찾는 문제\n",
    "  - 예: A, B, C, D 라는 노드를 가진 그래프에서 특정 노드를 A 라고 한다면, A - B, A - C, A - D 의 각각의 가장 짧은 경로를 찾는 문제를 의미함\n",
    "<br><br>\n",
    "3. 전체 쌍 (All-Pair) 최단 경로: 그래프 내의 모든 노드 쌍 (u, v) 에 대한 최단 경로를 찾는 문제"
   ]
  },
  {
   "cell_type": "markdown",
   "metadata": {},
   "source": [
    "### 2.1. 다익스트라 알고리즘 (Dijkstra Algorithm) - 최단 경로 알고리즘 \n",
    "- 위 최단 경로 문제 종류 중, 2번에 해당\n",
    "- 하나의 정점에서 **각 모든 노드 간의 가장 짧은 거리**를 구하기\n",
    "- 첫 정점을 기준으로 연결되어 있는 정점들을 추가해가며, 최단 거리를 갱신하는 기법\n",
    "<br><br>\n",
    "- 다익스트라 알고리즘의 다양한 변형 로직이 있지만, 가장 개선된 방식이 **우선순위 큐**를 사용하는 것\n",
    "    - 발견된 가장 짧은 거리의 노드에 대해서 먼저 계산\n",
    "    - 불필요한 거리 계산 과정을 줄일 수 있음\n",
    "\n",
    "### 2.2. 다익스트라 알고리즘 과정 \n",
    "\n",
    "- 우선순위 큐(MinHeap)를 활용한 다익스트라 알고리즘\n",
    "\n",
    "  1) 초기 설정 \n",
    "     - **첫 정점부터 각 노드간의 거리 저장 배열** 만들기\n",
    "         - 첫 정점의 거리(자기 자신과의 거리)는 0, 나머지는 거리는 무한대(inf)로 저장함\n",
    "     - **우선순위 큐**에 [ 첫 정점, 거리 0 ]을 먼저 넣기\n",
    "  <br><br>\n",
    "  \n",
    "  2) 우선순위 큐에서 가장 짧은 거리를 가진 노드를 꺼내기\n",
    "     - 큐에서 정점이 꺼내짐\n",
    "     - 정점에서 인접한 각 노드들에 대해, \n",
    "         - 정점이 지닌 거리가 배열에 기록된 거리 (현재까지 발견된 가장 짧은 거리) 보다 크다면, 인접 노드와의 거리 계산을 하지 않음\n",
    "         - [ 정점이 지닌 거리 + 인접 노드 거리 ]와 현재 배열에 저장되어 있는 거리를 비교\n",
    "     - 배열에 저장되어 있는 거리보다 더 짧을 경우, 배열에 해당 노드의 거리 업데이트\n",
    "     - 거리가 업데이트된 경우, 우선순위 큐에 넣는다.\n",
    "  <br><br>\n",
    "  \n",
    "  3) 2번의 과정을 우선순위 큐에서 꺼낼 노드가 없을 때까지 반복"
   ]
  },
  {
   "cell_type": "markdown",
   "metadata": {},
   "source": [
    "### 3. 다익스트라 알고리즘 예시"
   ]
  },
  {
   "cell_type": "markdown",
   "metadata": {},
   "source": [
    "<img src=\"https://www.fun-coding.org/00_Images/dijkstra.png\" width=200>"
   ]
  },
  {
   "cell_type": "markdown",
   "metadata": {},
   "source": [
    "#### 1단계: 초기화\n",
    "<img src=\"https://www.fun-coding.org/00_Images/dijkstra_initial.png\" width=800>"
   ]
  },
  {
   "cell_type": "markdown",
   "metadata": {},
   "source": [
    "#### 2단계: 우선순위 큐에서 (A, 0) 추출 후, 인접 노드와의 거리 계산\n",
    "<img src=\"https://www.fun-coding.org/00_Images/dijkstra_1st.png\" width=800>"
   ]
  },
  {
   "cell_type": "markdown",
   "metadata": {},
   "source": [
    "#### 3단계: 우선순위 큐에서 (C, 1) 추출 후, 인접 노드와의 거리 계산 \n",
    "- 우선순위 큐가 MinHeap(최소 힙) 방식이므로, (C, 1), (D, 2), (B, 8) 중 (C, 1) 이 먼저 추출됨 (pop)\n",
    "<br><br>\n",
    "- 위 표에서 보듯이 1단계까지의 A-B 최단 거리는 8\n",
    "- A-C 까지의 거리는 1 \n",
    "<br><br>\n",
    "- C 에 인접한 B, D에서 C-B는 5, 즉 A-C-B 는 1 + 5 = 6 이므로, A-B 최단 거리 8보다 더 작은 거리를 발견, 이를 배열에 업데이트\n",
    "- 배열에 업데이트했으므로 (B, 6)가 우선순위 큐에 넣어짐. (현재까지 발견한 A-B 최단 거리)\n",
    "<br><br>\n",
    "- C-D 의 거리는 2, 즉 A-C-D 는 1 + 2 = 3 이므로, A-D의 현재 최단 거리 2 보다 긴 거리, 따라서 D 의 거리는 업데이트되지 않음\n",
    "\n",
    "<img src=\"https://www.fun-coding.org/00_Images/dijkstra_2nd.png\" width=800>"
   ]
  },
  {
   "cell_type": "markdown",
   "metadata": {},
   "source": [
    "#### 4단계: 우선순위 큐에서 (D, 2) 추출 후,  인접한 노드와의 거리 계산\n",
    "- 지금까지 접근하지 못했던 E와 F 거리가 계산됨\n",
    "- A-D 까지의 거리인 2 에 D-E 가 3 이므로 이를 더해서 E, 5\n",
    "- A-D 까지의 거리인 2 에 D-F 가 5 이므로 이를 더해서 F, 7\n",
    "\n",
    "<img src=\"https://www.fun-coding.org/00_Images/dijkstra_3rd.png\" width=800>"
   ]
  },
  {
   "cell_type": "markdown",
   "metadata": {},
   "source": [
    "#### 5단계: 우선순위 큐에서 (E, 5) 추출 후, 인접한 노드와의 거리 계산\n",
    "<img src=\"https://www.fun-coding.org/00_Images/dijkstra_3-2th.png\" width=800>"
   ]
  },
  {
   "cell_type": "markdown",
   "metadata": {},
   "source": [
    "#### 6단계: 우선순위 큐에서 (B, 6), (F, 6) 를 순차적으로 추출, 인접한 노드와의 거리 계산\n",
    "- 예제 방향 그래프에서 B 노드는 다른 노드로 가는 길이 없음 \n",
    "- F 노드는 A 노드로 가는 루트가 있으나, 현재 A-A 가 0 인 반면에 A-F-A 는 6 + 5 = 11, 즉 더 긴 거리이므로 업데이트되지 않음\n",
    "<img src=\"https://www.fun-coding.org/00_Images/dijkstra_4th.png\" width=800>"
   ]
  },
  {
   "cell_type": "markdown",
   "metadata": {},
   "source": [
    "#### 6단계: 우선순위 큐에서 (F, 7), (B, 8) 를 순차적으로 추출, 인접한 노드와의 거리 계산\n",
    "<img src=\"https://www.fun-coding.org/00_Images/dijkstra_5th.png\" width=800>"
   ]
  },
  {
   "cell_type": "markdown",
   "metadata": {},
   "source": [
    "### 4. 다익스트라 알고리즘 구현하기"
   ]
  },
  {
   "cell_type": "markdown",
   "metadata": {},
   "source": [
    "<img src=\"https://www.fun-coding.org/00_Images/dijkstra.png\" align=\"left\" width=200>"
   ]
  },
  {
   "cell_type": "code",
   "execution_count": 22,
   "metadata": {},
   "outputs": [],
   "source": [
    "mygraph = {\n",
    "    'A': {'B': 8, 'C': 1, 'D': 2},\n",
    "    'B': {},\n",
    "    'C': {'B': 5, 'D': 2},\n",
    "    'D': {'E': 3, 'F': 5},\n",
    "    'E': {'F': 1},\n",
    "    'F': {'A': 5}\n",
    "}"
   ]
  },
  {
   "cell_type": "code",
   "execution_count": 25,
   "metadata": {},
   "outputs": [],
   "source": [
    "# heapq 라이브러리로 우선순위 큐 사용하기\n",
    "# 데이터가 리스트 형태일 경우, 0번 인덱스를 우선순위로 인지, 우선순위가 낮은 순서대로 pop 할 수 있음\n",
    "import heapq\n",
    "\n",
    "def dijkstra(graph, start):\n",
    "    \n",
    "    # 시작 정점에서 각 정점까지의 [최단 거리, 어디로부터 온 노드인지]를 저장할 딕셔너리를 생성하고, 무한대(inf)로 초기화\n",
    "    distances = {}\n",
    "    \n",
    "    for vertex in graph:\n",
    "        distances[vertex] = [float('inf'), start]\n",
    "        \n",
    "    # 그래프의 시작 정점의 거리는 0으로 초기화 해줌\n",
    "    distances[start] = [0, start]\n",
    "\n",
    "    # 우선순위 큐 생성 \n",
    "    queue = []\n",
    "\n",
    "    # 그래프의 시작 정점과 시작 정점의 거리(0)을 최소힙에 넣어줌 \n",
    "    heapq.heappush(queue, [distances[start][0], start])\n",
    "\n",
    "    while queue:\n",
    "        \n",
    "        # 큐에서 정점을 꺼내기\n",
    "        current_distance, current_vertex = heapq.heappop(queue)\n",
    "        \n",
    "        # 꺼낸 정점의 거리가 더 길다면, 스킵\n",
    "        if distances[current_vertex][0] < current_distance:\n",
    "            continue\n",
    "            \n",
    "        # 인접한 정점들의 가중치를 모두 확인하여 업데이트\n",
    "        for adjacent, weight in graph[current_vertex].items():\n",
    "            \n",
    "            distance = current_distance + weight\n",
    "            \n",
    "            # 현재 정점을 통해 가는 것이 더 가까울 경우, 거리 업데이트, 우선순위 큐에 넣어주기  \n",
    "            if distance < distances[adjacent][0]:\n",
    "                distances[adjacent] = [distance, current_vertex]\n",
    "                heapq.heappush(queue, [distance, adjacent])\n",
    "    \n",
    "    return distances\n",
    "\n",
    "\n",
    "def dijkstra_path(distances, start, end):\n",
    "\n",
    "    path = [end]\n",
    "    visited = end\n",
    "    \n",
    "    while distances[visited][1] != start:\n",
    "        path.append(distances[visited][1])\n",
    "        visited = distances[visited][1]\n",
    "    \n",
    "    path.append(start)\n",
    "    \n",
    "    path.reverse()\n",
    "    \n",
    "    return path"
   ]
  },
  {
   "cell_type": "code",
   "execution_count": 26,
   "metadata": {},
   "outputs": [
    {
     "name": "stdout",
     "output_type": "stream",
     "text": [
      "{'A': [0, 'A'], 'B': [6, 'C'], 'C': [1, 'A'], 'D': [2, 'A'], 'E': [5, 'D'], 'F': [6, 'E']}\n",
      "['A', 'D', 'E', 'F']\n"
     ]
    }
   ],
   "source": [
    "distance_arr = dijkstra(mygraph, 'A')\n",
    "dijkstra_result = dijkstra_path(distance_arr, 'A', 'F')\n",
    "\n",
    "print(distance_arr)\n",
    "print(dijkstra_result)"
   ]
  },
  {
   "cell_type": "markdown",
   "metadata": {},
   "source": [
    "### 5. 알고리즘 분석\n",
    "\n",
    "- 시간 복잡도 : $ O(Elog{E}) $\n",
    "<br><br>\n",
    "\n",
    "- 다익스트라 알고리즘은 크게 다음 두 가지 과정을 거침\n",
    "  - 과정1: 각 노드마다 인접한 간선들을 모두 검사하는 과정\n",
    "      - 각 노드는 최대 한 번씩 방문, 그래프의 모든 간선은 최대 한 번씩 검사\n",
    "      - 따라서, 해당 과정의 시간 복잡도는 O(E) \n",
    "  - 과정2: 우선순위 큐에 노드/거리 정보를 넣고 삭제(pop)하는 과정\n",
    "      - 최악의 시나리오는 그래프의 모든 간선이 검사될 때마다, 최단 거리가 갱신되고, 우선순위 큐에 추가되는 것\n",
    "      - 이 때 추가는 각 간선마다 최대 한 번 일어날 수 있으므로, 최대 O(E)의 시간이 걸리고, 우선순위 큐를 유지하는 작업은 $ O(log{E}) $ 가 걸림\n",
    "      - 따라서, 해당 과정의 시간 복잡도는 $ O(Elog{E}) $ \n",
    "\n",
    "- 과정1 + 과정2 = O(E) + $ O(Elog{E}) $  = $ O(E + Elog{E}) = O(Elog{E}) $"
   ]
  }
 ],
 "metadata": {
  "kernelspec": {
   "display_name": "Python 3",
   "language": "python",
   "name": "python3"
  },
  "language_info": {
   "codemirror_mode": {
    "name": "ipython",
    "version": 3
   },
   "file_extension": ".py",
   "mimetype": "text/x-python",
   "name": "python",
   "nbconvert_exporter": "python",
   "pygments_lexer": "ipython3",
   "version": "3.7.4"
  },
  "nbTranslate": {
   "displayLangs": [
    "*"
   ],
   "hotkey": "alt-t",
   "langInMainMenu": true,
   "sourceLang": "en",
   "targetLang": "fr",
   "useGoogleTranslate": true
  }
 },
 "nbformat": 4,
 "nbformat_minor": 1
}
