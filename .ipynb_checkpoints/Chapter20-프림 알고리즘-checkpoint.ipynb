{
 "cells": [
  {
   "cell_type": "markdown",
   "metadata": {},
   "source": [
    "## 프림 알고리즘  (Prim's algorithm)"
   ]
  },
  {
   "cell_type": "markdown",
   "metadata": {},
   "source": [
    "### 1. 프림 알고리즘이란?\n",
    "\n",
    "- 프림 알고리즘 \n",
    "  - 시작 정점을 선택한 후, 인접한 간선 중 최소 간선으로 연결된 정점을 선택하고, 해당 정점에서 다시 최소 간선으로 연결된 정점을 선택하는 방식\n",
    "<br><br>\n",
    "\n",
    "- Kruskal's algorithm vs Prim's algorithm\n",
    "  - 공통점 : 탐욕 알고리즘을 기초로 함 (당장 눈 앞의 최소 비용을 선택해서, 결과적으로 최적의 솔루션을 찾음)\n",
    "  - Kruskal's algorithm : 가중치가 작은 간선부터 선택하면서 MST를 구함\n",
    "  - Prim's algorithm : 시작 정점을 선택한 후, 인접한 간선 중 최소 간선으로 연결된 정점을 선택하고, 해당 정점에서 다시 최소 간선으로 연결된 정점을 선택하는 방식으로 MST를 구함"
   ]
  },
  {
   "cell_type": "markdown",
   "metadata": {},
   "source": [
    "### 2. 프림 알고리즘 과정 "
   ]
  },
  {
   "cell_type": "markdown",
   "metadata": {},
   "source": [
    "<img src=\"https://www.fun-coding.org/00_Images/prim1.png\" width=600>\n",
    "<img src=\"https://www.fun-coding.org/00_Images/prim2.png\" width=600>\n",
    "<img src=\"https://www.fun-coding.org/00_Images/prim3.png\" width=600>"
   ]
  },
  {
   "cell_type": "markdown",
   "metadata": {},
   "source": [
    "1. 임의의 정점을 선택, '연결된 노드 집합(**connected_nodes**)'에 삽입\n",
    "2. 선택된 정점에 연결된 간선들을 '간선 리스트(**candidate_edge_list**)'에 삽입\n",
    "3. '간선 리스트(candidate_edge_list)'에서 최소 가중치를 가지는 간선부터 pop,\n",
    "   - 해당 간선에 연결된 인접 정점이 '연결된 노드 집합'에 이미 들어 있다면, 스킵(사이클이 생기지 않도록)\n",
    "   - 해당 간선에 연결된 인접 정점이 '연결된 노드 집합'에 들어 있지 않으면, 해당 간선을 선택하고, 해당 간선 정보를 '최소 신장 트리(**mst**)'에 삽입\n",
    "4. '간선 리스트'에 더 이상의 간선이 없을 때까지 3번 반복"
   ]
  },
  {
   "cell_type": "markdown",
   "metadata": {},
   "source": [
    "### 3. 프림 알고리즘 구현하기"
   ]
  },
  {
   "cell_type": "code",
   "execution_count": 1,
   "metadata": {},
   "outputs": [],
   "source": [
    "myedges = [\n",
    "    (7, 'A', 'B'), \n",
    "    (5, 'A', 'D'),\n",
    "    (8, 'B', 'C'), \n",
    "    (9, 'B', 'D'), \n",
    "    (7, 'B', 'E'),\n",
    "    (5, 'C', 'E'),\n",
    "    (7, 'D', 'E'), \n",
    "    (6, 'D', 'F'),\n",
    "    (8, 'E', 'F'), \n",
    "    (9, 'E', 'G'),\n",
    "    (11,'F', 'G')\n",
    "]"
   ]
  },
  {
   "cell_type": "code",
   "execution_count": 2,
   "metadata": {},
   "outputs": [],
   "source": [
    "from collections import defaultdict\n",
    "from heapq import *\n",
    "\n",
    "def prim(start_node, edges):\n",
    "    mst = list()\n",
    "    \n",
    "    # defaultdict 함수를 사용해서, key에 대한 value를 지정하지 않았을 시, 빈 리스트로 초기화하기\n",
    "    adjacent_edges = defaultdict(list) \n",
    "    \n",
    "    for weight, n1, n2 in edges:\n",
    "        adjacent_edges[n1].append((weight, n1, n2))\n",
    "        adjacent_edges[n2].append((weight, n2, n1))\n",
    "\n",
    "    # 연결된 노드 집합(connected_nodes)\n",
    "    connected_nodes = set(start_node)\n",
    "    \n",
    "    # 연결된 간선 리스트(candidate_edge_list) -> heap 구조로\n",
    "    candidate_edge_list = adjacent_edges[start_node]\n",
    "    heapify(candidate_edge_list)\n",
    "    \n",
    "    while candidate_edge_list:\n",
    "        # 최소 가중치를 가지는 간선 추출\n",
    "        weight, n1, n2 = heappop(candidate_edge_list)\n",
    "        \n",
    "        # 선택된 노드 넣어주기 \n",
    "        if n2 not in connected_nodes:\n",
    "            connected_nodes.add(n2)\n",
    "            mst.append((weight, n1, n2))\n",
    "            \n",
    "            # 간선 (후보) 리스트에 간선 넣어주기 \n",
    "            for edge in adjacent_edges[n2]:\n",
    "                if edge[2] not in connected_nodes:\n",
    "                    heappush(candidate_edge_list, edge)\n",
    "\n",
    "    return mst"
   ]
  },
  {
   "cell_type": "code",
   "execution_count": 3,
   "metadata": {},
   "outputs": [
    {
     "data": {
      "text/plain": [
       "[(5, 'A', 'D'),\n",
       " (6, 'D', 'F'),\n",
       " (7, 'A', 'B'),\n",
       " (7, 'B', 'E'),\n",
       " (5, 'E', 'C'),\n",
       " (9, 'E', 'G')]"
      ]
     },
     "execution_count": 3,
     "metadata": {},
     "output_type": "execute_result"
    }
   ],
   "source": [
    "prim ('A', myedges)"
   ]
  },
  {
   "cell_type": "markdown",
   "metadata": {},
   "source": [
    "### 4. 프림 알고리즘 시간 복잡도\n",
    "- 시간 복잡도 : O($ElogE$)\n",
    "  - 최악의 경우, while 구문에서 모든 간선에 대해 반복하고, 최소 힙 구조를 사용"
   ]
  },
  {
   "cell_type": "markdown",
   "metadata": {},
   "source": [
    "## 개선된 프림 알고리즘 (Improved Prim's algorithm)"
   ]
  },
  {
   "cell_type": "markdown",
   "metadata": {},
   "source": [
    "### 5. (참고) 개선된 프림 알고리즘 \n",
    "\n",
    "- 간선이 아닌 **노드를 중심**으로 우선순위 큐를 적용하는 방식"
   ]
  },
  {
   "cell_type": "markdown",
   "metadata": {},
   "source": [
    "### 6. 개선된 프림 알고리즘 과정\n",
    "\n",
    "- 우선순위 큐 **keys**에 특정 정점의 key 값은 0, 이외 정점들의 key값은 무한대로 넣음\n",
    "- Extract Min 로직\n",
    "    - key 값이 가장 작은 {정점:key} pop\n",
    "- Decrease key 로직\n",
    "    - 해당 정점의 인접 정점들에 대해, 연결된 가중치 값과 key 값을 비교하여, 가중치 값이 작으면 해당 key 값 갱신\n",
    "    - key 값 갱신 시, 우선순위 큐는 최소 key 값을 가지는 {정점:key}를 루트 노드로 올려놓도록 재구성"
   ]
  },
  {
   "cell_type": "markdown",
   "metadata": {},
   "source": [
    "### 7. 개선된 프림 알고리즘 구현하기"
   ]
  },
  {
   "cell_type": "code",
   "execution_count": 4,
   "metadata": {},
   "outputs": [],
   "source": [
    "# 우선순위 큐(최소힙) 구조에서, 이미 들어가 있는 데이터의 값 변경시, 최소값을 가지는 데이터를 루트노드로 올려놓도록 재구성하는 기능이 필요\n",
    "# heapdict 라이브러리를 통해, 해당 기능을 간단히 구현\n",
    "from heapdict import heapdict\n",
    "\n",
    "def prim(graph, start):\n",
    "    \n",
    "    mst = list()\n",
    "    keys = heapdict() # 정점 정보 담고 있음 \n",
    "    pi = dict()       # 어디 정점으로 부터 왔는지 정보 저장\n",
    "    total_weight = 0\n",
    "    \n",
    "    for node in graph.keys():\n",
    "        keys[node] = float('inf')\n",
    "        pi[node] = None\n",
    "    \n",
    "    keys[start] = 0\n",
    "    pi[start] = start\n",
    "\n",
    "    while keys:\n",
    "        current_node, current_key = keys.popitem()\n",
    "        mst.append([pi[current_node], current_node, current_key])\n",
    "        \n",
    "        total_weight += current_key\n",
    "        \n",
    "        for adjacent, weight in mygraph[current_node].items():\n",
    "            if adjacent in keys and weight < keys[adjacent]:\n",
    "                keys[adjacent] = weight\n",
    "                pi[adjacent] = current_node\n",
    "                \n",
    "    return mst, total_weight"
   ]
  },
  {
   "cell_type": "code",
   "execution_count": 5,
   "metadata": {},
   "outputs": [
    {
     "name": "stdout",
     "output_type": "stream",
     "text": [
      "MST: [['A', 'A', 0], ['A', 'D', 5], ['D', 'F', 6], ['A', 'B', 7], ['D', 'E', 7], ['E', 'C', 5], ['E', 'G', 9]]\n",
      "Total Weight: 39\n"
     ]
    }
   ],
   "source": [
    "mygraph = {\n",
    "    'A': {'B': 7, 'D': 5},\n",
    "    'B': {'A': 7, 'D': 9, 'C': 8, 'E': 7},\n",
    "    'C': {'B': 8, 'E': 5},\n",
    "    'D': {'A': 5, 'B': 9, 'E': 7, 'F': 6},\n",
    "    'E': {'B': 7, 'C': 5, 'D': 7, 'F': 8, 'G': 9},\n",
    "    'F': {'D': 6, 'E': 8, 'G': 11},\n",
    "    'G': {'E': 9, 'F': 11}    \n",
    "}\n",
    "\n",
    "mst, total_weight = prim(mygraph, 'A')\n",
    "\n",
    "print ('MST:', mst)\n",
    "print ('Total Weight:', total_weight)"
   ]
  },
  {
   "cell_type": "markdown",
   "metadata": {},
   "source": [
    "### 8. 개선된 프림 알고리즘 시간 복잡도\n",
    "- 시간 복잡도: $ O(ElogV) $\n",
    "<br><br>\n",
    "\n",
    "- 최초 key 생성 시간 복잡도: $ O(V) $\n",
    "- while 구문과 keys.popitem() 의 시간 복잡도는 $ O(VlogV) $\n",
    "  - while 구문은 V 번 실행됨\n",
    "  - heap 에서 최소 key 값을 가지는 노드 정보 추출 시(pop)의 시간 복잡도: $ O(logV) $\n",
    "- for 구문의 총 시간 복잡도는 $ O(ElogV) $\n",
    "  - for 구문은 while 구문 반복시에 결과적으로 총 최대 간선의 수 E 만큼 실행 가능 $ O(E) $\n",
    "  - for 구문 안에서 key값 변경시마다 heap 구조를 변경해야 하며, heap 에는 최대 V 개의 정보가 있으므로 $ O(logV) $"
   ]
  },
  {
   "cell_type": "markdown",
   "metadata": {},
   "source": [
    "- 따라서, 총 시간 복잡도는 $ O(V + VlogV + ElogV) $ 이며,\n",
    "  - O(V)는 전체 시간 복잡도에 큰 영향을 미치지 않으므로 삭제,\n",
    "  - E > V 이므로 (최대 $ V^2 = E $ 가 될 수 있음), $ O((V + E)logV) $ 는 간단하게 $ O(ElogV) $ 로 나타낼 수 있음"
   ]
  },
  {
   "cell_type": "code",
   "execution_count": null,
   "metadata": {},
   "outputs": [],
   "source": []
  }
 ],
 "metadata": {
  "kernelspec": {
   "display_name": "Python 3",
   "language": "python",
   "name": "python3"
  },
  "language_info": {
   "codemirror_mode": {
    "name": "ipython",
    "version": 3
   },
   "file_extension": ".py",
   "mimetype": "text/x-python",
   "name": "python",
   "nbconvert_exporter": "python",
   "pygments_lexer": "ipython3",
   "version": "3.7.4"
  },
  "nbTranslate": {
   "displayLangs": [
    "*"
   ],
   "hotkey": "alt-t",
   "langInMainMenu": true,
   "sourceLang": "en",
   "targetLang": "fr",
   "useGoogleTranslate": true
  }
 },
 "nbformat": 4,
 "nbformat_minor": 1
}
