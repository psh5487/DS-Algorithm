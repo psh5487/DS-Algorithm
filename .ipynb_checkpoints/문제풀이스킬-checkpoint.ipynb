{
 "cells": [
  {
   "cell_type": "markdown",
   "metadata": {},
   "source": [
    "### 알고리즘 연습 방법\n",
    "\n",
    "1. 문제를 읽고 분석\n",
    "\n",
    "2. 매우 간단한 경우부터 복잡한 경우를 순서대로 생각, 메모\n",
    "\n",
    "3. 구현할 알고리즘을 세부 항목으로 나누고, 문장으로 표현해보기\n",
    "\n",
    "4. 코드화하기 위해 데이터 구조 또는 사용할 변수를 정리\n",
    "\n",
    "5. 각 문장을 코드 레벨로 적기\n",
    "\n",
    "6. 데이터 구조 또는 사용할 변수가 코드에 따라 어떻게 변하는지를 적으면서, 임의 데이터로 코드가 동작하는지 확인"
   ]
  },
  {
   "cell_type": "markdown",
   "metadata": {},
   "source": [
    "### Stable한 알고리즘이란?\n",
    "* 중복된 키를 가진 노드의 순서를 보장한다.\n",
    "* 참고: http://blog.naver.com/zephyehu/150013176075"
   ]
  },
  {
   "cell_type": "code",
   "execution_count": null,
   "metadata": {},
   "outputs": [],
   "source": []
  }
 ],
 "metadata": {
  "kernelspec": {
   "display_name": "Python 3",
   "language": "python",
   "name": "python3"
  },
  "language_info": {
   "codemirror_mode": {
    "name": "ipython",
    "version": 3
   },
   "file_extension": ".py",
   "mimetype": "text/x-python",
   "name": "python",
   "nbconvert_exporter": "python",
   "pygments_lexer": "ipython3",
   "version": "3.7.4"
  }
 },
 "nbformat": 4,
 "nbformat_minor": 2
}
