{
  "cells" : [
    {
      "cell_type" : "markdown",
      "source" : [
        "## 자료구조: 스택 (Stack)"
      ],
      "metadata" : {

      }
    },
    {
      "cell_type" : "markdown",
      "source" : [
        "### 1. 스택 구조\n",
        "* 가장 나중에 넣은 데이터를 가장 먼저 빼낼 수 있는 자료구조\n",
        "* LIFO(Last In, Fisrt Out) 방식\n",
        " \n",
        "<img src=\"http:\/\/www.fun-coding.org\/00_Images\/stack.png\" width=400\/>"
      ],
      "metadata" : {

      }
    },
    {
      "cell_type" : "markdown",
      "source" : [
        "### 2. 스택 기능 \n",
        "\n",
        "- push(): 데이터를 스택에 넣기\n",
        "- pop(): 데이터를 스택에서 꺼내기"
      ],
      "metadata" : {

      }
    },
    {
      "cell_type" : "markdown",
      "source" : [
        "### 3. 스택의 사용성\n",
        "\n",
        "- 컴퓨터 구조에서 프로세스의 함수 동작 방식에서 사용됨\n",
        "<br><br>\n",
        "\n",
        "- 장점\n",
        "  - 단순한 구조\n",
        "  - 데이터 저장\/읽기 속도가 빠르다.\n",
        "  \n",
        "- 단점\n",
        "  - 배열 구조 활용해서 스택 구현시, 데이터 최대 개수를 미리 정하고 저장 공간 확보해야함\n",
        "  - 파이썬의 경우 재귀 함수 1000번까지만 호출 가능함"
      ],
      "metadata" : {

      }
    },
    {
      "cell_type" : "markdown",
      "source" : [
        "### 4. 프로세스 스택\n",
        "- 스택은 프로세스 실행 구조의 기본이 됨\n",
        "- 함수 호출시 프로세스 실행 구조, 스택과 함께 이해할 것 "
      ],
      "metadata" : {

      }
    },
    {
      "metadata" : {

      },
      "source" : [
        "# 재귀 함수\n",
        "def recursive(data):\n",
        "    if data < 0:\n",
        "        print (\"ended\")\n",
        "    else:\n",
        "        print(data)\n",
        "        recursive(data - 1)\n",
        "        print(\"returned\", data)        "
      ],
      "cell_type" : "code",
      "execution_count" : 2,
      "outputs" : [

      ]
    },
    {
      "metadata" : {

      },
      "source" : [
        "recursive(4)"
      ],
      "cell_type" : "code",
      "execution_count" : 3,
      "outputs" : [
        {
          "name" : "stdout",
          "text" : [
            "4\n",
            "3\n",
            "2\n",
            "1\n",
            "0\n",
            "ended\n",
            "returned 0\n",
            "returned 1\n",
            "returned 2\n",
            "returned 3\n",
            "returned 4\n"
          ],
          "output_type" : "stream"
        }
      ]
    },
    {
      "cell_type" : "markdown",
      "source" : [
        "### 5. 파이썬 리스트 기능으로 스택 사용하기\n",
        "* append()\n",
        "* pop()"
      ],
      "metadata" : {

      }
    },
    {
      "metadata" : {

      },
      "source" : [
        "data_stack = list()\n",
        "\n",
        "data_stack.append(1)\n",
        "data_stack.append(2)"
      ],
      "cell_type" : "code",
      "execution_count" : 4,
      "outputs" : [

      ]
    },
    {
      "metadata" : {

      },
      "source" : [
        "data_stack"
      ],
      "cell_type" : "code",
      "execution_count" : 5,
      "outputs" : [
        {
          "metadata" : {

          },
          "data" : {
            "text\/plain" : [
              "[1, 2]"
            ]
          },
          "output_type" : "execute_result",
          "execution_count" : 5
        }
      ]
    },
    {
      "metadata" : {

      },
      "source" : [
        "data_stack.pop()"
      ],
      "cell_type" : "code",
      "execution_count" : 6,
      "outputs" : [
        {
          "metadata" : {

          },
          "data" : {
            "text\/plain" : [
              "2"
            ]
          },
          "output_type" : "execute_result",
          "execution_count" : 6
        }
      ]
    },
    {
      "cell_type" : "markdown",
      "source" : [
        "### 6. 프로그래밍 연습 "
      ],
      "metadata" : {

      }
    },
    {
      "cell_type" : "markdown",
      "source" : [
        "<div class=\"alert alert-block alert-warning\">\n",
        "<strong><font color=\"blue\" size=\"3em\">연습1: 리스트 기능으로 스택의 push, pop 구현해보기 (pop, push 함수 사용하지 않고 직접 구현해보기)<\/font><\/strong><br>\n",
        "<\/div>"
      ],
      "metadata" : {

      }
    },
    {
      "metadata" : {

      },
      "source" : [
        "stack_list = list()\n",
        "\n",
        "def push(data):\n",
        "    stack_list.append(data)\n",
        "\n",
        "def pop():\n",
        "    data = stack_list[-1]\n",
        "    del stack_list[-1]\n",
        "    return data"
      ],
      "cell_type" : "code",
      "execution_count" : 7,
      "outputs" : [

      ]
    },
    {
      "metadata" : {

      },
      "source" : [
        "for index in range(10):\n",
        "    push(index)"
      ],
      "cell_type" : "code",
      "execution_count" : 8,
      "outputs" : [

      ]
    },
    {
      "metadata" : {

      },
      "source" : [
        "pop()"
      ],
      "cell_type" : "code",
      "execution_count" : 9,
      "outputs" : [
        {
          "metadata" : {

          },
          "data" : {
            "text\/plain" : [
              "9"
            ]
          },
          "output_type" : "execute_result",
          "execution_count" : 9
        }
      ]
    }
  ],
  "nbformat_minor" : 1,
  "nbformat" : 4,
  "metadata" : {
    "language_info" : {
      "file_extension" : ".py",
      "codemirror_mode" : {
        "name" : "ipython",
        "version" : 3
      },
      "mimetype" : "text\/x-python",
      "pygments_lexer" : "ipython3",
      "version" : "3.7.4",
      "nbconvert_exporter" : "python",
      "name" : "python"
    },
    "nbTranslate" : {
      "displayLangs" : [
        "*"
      ],
      "sourceLang" : "en",
      "targetLang" : "fr",
      "langInMainMenu" : true,
      "useGoogleTranslate" : true,
      "hotkey" : "alt-t"
    },
    "kernelspec" : {
      "name" : "python3",
      "language" : "python",
      "display_name" : "Python 3"
    }
  }
}