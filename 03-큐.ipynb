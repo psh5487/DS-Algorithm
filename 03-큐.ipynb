{
  "nbformat_minor" : 1,
  "cells" : [
    {
      "cell_type" : "markdown",
      "source" : [
        "## 자료구조 : 큐 (Queue)\n",
        "\n",
        "### 1. 큐 구조\n",
        "* 가장 먼저 넣은 데이터를 가장 먼저 꺼낼 수 있는 자료 구조\n",
        "* FIFO(First-In, First-Out) 방식\n",
        "* ≒ 줄 서기\n",
        "* 스택과 꺼내는 순서가 반대\n",
        "  \n",
        "<img src=\"https:\/\/www.fun-coding.org\/00_Images\/queue.png\" width=400\/>"
      ],
      "metadata" : {

      }
    },
    {
      "cell_type" : "markdown",
      "source" : [
        "### 2. 큐 기능\n",
        "* Enqueue: 큐에 데이터를 넣는 기능\n",
        "* Dequeue: 큐에서 데이터를 꺼내는 기능"
      ],
      "metadata" : {

      }
    },
    {
      "cell_type" : "markdown",
      "source" : [
        "### 3. 큐의 사용성\n",
        "\n",
        "- 운영체제에서 멀티 태스킹을 위한 프로세스 스케쥴링 방식을 구현할 때 사용\n",
        "- 장단점 보다는(특별히 언급되는 장단점이 없음), 큐의 활용 예로 프로세스 스케쥴링 방식을 함께 이해해두는 것이 좋음"
      ],
      "metadata" : {

      }
    },
    {
      "cell_type" : "markdown",
      "source" : [
        "### 4. 파이썬 queue 라이브러리\n",
        "* queue 라이브러리에서는 다양한 큐 구조로 Queue(), LifoQueue(), PriorityQueue() 제공\n",
        "    - Queue(): 일반적인 큐 자료 구조\n",
        "    - LifoQueue(): 나중에 입력된 데이터가 먼저 출력되는 구조 (스택 구조)\n",
        "    - PriorityQueue(): 데이터마다 우선순위를 넣어서, 우선순위가 높은 순으로 데이터 출력\n",
        "<br><br>\n",
        "\n",
        "* 일반적인 큐 외에 다양한 정책이 적용된 큐들이 있음"
      ],
      "metadata" : {

      }
    },
    {
      "cell_type" : "markdown",
      "source" : [
        "#### 4.1. Queue()로 큐 만들기"
      ],
      "metadata" : {

      }
    },
    {
      "metadata" : {

      },
      "source" : [
        "import queue\n",
        "\n",
        "data_queue = queue.Queue()"
      ],
      "cell_type" : "code",
      "execution_count" : 8,
      "outputs" : [

      ]
    },
    {
      "metadata" : {

      },
      "source" : [
        "data_queue.put(\"funcoding\")\n",
        "data_queue.put(1)"
      ],
      "cell_type" : "code",
      "execution_count" : 2,
      "outputs" : [

      ]
    },
    {
      "metadata" : {

      },
      "source" : [
        "data_queue.qsize()"
      ],
      "cell_type" : "code",
      "execution_count" : 3,
      "outputs" : [
        {
          "metadata" : {

          },
          "data" : {
            "text\/plain" : [
              "2"
            ]
          },
          "output_type" : "execute_result",
          "execution_count" : 3
        }
      ]
    },
    {
      "metadata" : {

      },
      "source" : [
        "data_queue.get()"
      ],
      "cell_type" : "code",
      "execution_count" : 4,
      "outputs" : [
        {
          "metadata" : {

          },
          "data" : {
            "text\/plain" : [
              "'funcoding'"
            ]
          },
          "output_type" : "execute_result",
          "execution_count" : 4
        }
      ]
    },
    {
      "metadata" : {

      },
      "source" : [
        "data_queue.qsize()"
      ],
      "cell_type" : "code",
      "execution_count" : 7,
      "outputs" : [
        {
          "metadata" : {

          },
          "data" : {
            "text\/plain" : [
              "0"
            ]
          },
          "output_type" : "execute_result",
          "execution_count" : 7
        }
      ]
    },
    {
      "metadata" : {

      },
      "source" : [
        "data_queue.get()"
      ],
      "cell_type" : "code",
      "execution_count" : 6,
      "outputs" : [
        {
          "metadata" : {

          },
          "data" : {
            "text\/plain" : [
              "1"
            ]
          },
          "output_type" : "execute_result",
          "execution_count" : 6
        }
      ]
    },
    {
      "cell_type" : "markdown",
      "source" : [
        "#### 4.2. LifoQueue()로 큐 만들기"
      ],
      "metadata" : {

      }
    },
    {
      "metadata" : {

      },
      "source" : [
        "import queue\n",
        "data_queue = queue.LifoQueue()"
      ],
      "cell_type" : "code",
      "execution_count" : 9,
      "outputs" : [

      ]
    },
    {
      "metadata" : {

      },
      "source" : [
        "data_queue.put(\"funcoding\")\n",
        "data_queue.put(1)"
      ],
      "cell_type" : "code",
      "execution_count" : 10,
      "outputs" : [

      ]
    },
    {
      "metadata" : {

      },
      "source" : [
        "data_queue.qsize()"
      ],
      "cell_type" : "code",
      "execution_count" : 11,
      "outputs" : [
        {
          "metadata" : {

          },
          "data" : {
            "text\/plain" : [
              "2"
            ]
          },
          "output_type" : "execute_result",
          "execution_count" : 11
        }
      ]
    },
    {
      "metadata" : {

      },
      "source" : [
        "data_queue.get()"
      ],
      "cell_type" : "code",
      "execution_count" : 12,
      "outputs" : [
        {
          "metadata" : {

          },
          "data" : {
            "text\/plain" : [
              "1"
            ]
          },
          "output_type" : "execute_result",
          "execution_count" : 12
        }
      ]
    },
    {
      "cell_type" : "markdown",
      "source" : [
        "#### 4.3. PriorityQueue()로 큐 만들기"
      ],
      "metadata" : {

      }
    },
    {
      "metadata" : {

      },
      "source" : [
        "import queue\n",
        "\n",
        "data_queue = queue.PriorityQueue()"
      ],
      "cell_type" : "code",
      "execution_count" : 15,
      "outputs" : [

      ]
    },
    {
      "metadata" : {

      },
      "source" : [
        "data_queue.put((10, \"korea\"))\n",
        "data_queue.put((5, 1))\n",
        "data_queue.put((15, \"china\"))"
      ],
      "cell_type" : "code",
      "execution_count" : 16,
      "outputs" : [

      ]
    },
    {
      "metadata" : {

      },
      "source" : [
        "data_queue.qsize()"
      ],
      "cell_type" : "code",
      "execution_count" : 17,
      "outputs" : [
        {
          "metadata" : {

          },
          "data" : {
            "text\/plain" : [
              "3"
            ]
          },
          "output_type" : "execute_result",
          "execution_count" : 17
        }
      ]
    },
    {
      "metadata" : {

      },
      "source" : [
        "data_queue.get()"
      ],
      "cell_type" : "code",
      "execution_count" : 18,
      "outputs" : [
        {
          "metadata" : {

          },
          "data" : {
            "text\/plain" : [
              "(5, 1)"
            ]
          },
          "output_type" : "execute_result",
          "execution_count" : 18
        }
      ]
    },
    {
      "metadata" : {

      },
      "source" : [
        "data_queue.get()"
      ],
      "cell_type" : "code",
      "execution_count" : 19,
      "outputs" : [
        {
          "metadata" : {

          },
          "data" : {
            "text\/plain" : [
              "(10, 'korea')"
            ]
          },
          "output_type" : "execute_result",
          "execution_count" : 19
        }
      ]
    },
    {
      "cell_type" : "markdown",
      "source" : [
        "### 5. 프로그래밍 연습 "
      ],
      "metadata" : {

      }
    },
    {
      "cell_type" : "markdown",
      "source" : [
        "<div class=\"alert alert-block alert-warning\">\n",
        "<strong><font color=\"blue\" size=\"3em\">연습1: 리스트 변수로 큐를 다루는 enqueue, dequeue 기능 구현해보기<\/font><\/strong>\n",
        "<\/div>"
      ],
      "metadata" : {

      }
    },
    {
      "metadata" : {

      },
      "source" : [
        "queue_list = list()\n",
        "\n",
        "def enqueue(data):\n",
        "    queue_list.append(data)\n",
        "    \n",
        "def dequeue():\n",
        "    data = queue_list[0]\n",
        "    del queue_list[0]\n",
        "    return data"
      ],
      "cell_type" : "code",
      "execution_count" : 21,
      "outputs" : [

      ]
    },
    {
      "metadata" : {

      },
      "source" : [
        "for index in range(10):\n",
        "    enqueue(index)\n"
      ],
      "cell_type" : "code",
      "execution_count" : 22,
      "outputs" : [

      ]
    },
    {
      "metadata" : {

      },
      "source" : [
        "len(queue_list)"
      ],
      "cell_type" : "code",
      "execution_count" : 23,
      "outputs" : [
        {
          "metadata" : {

          },
          "data" : {
            "text\/plain" : [
              "10"
            ]
          },
          "output_type" : "execute_result",
          "execution_count" : 23
        }
      ]
    },
    {
      "metadata" : {

      },
      "source" : [
        "dequeue()"
      ],
      "cell_type" : "code",
      "execution_count" : 26,
      "outputs" : [
        {
          "metadata" : {

          },
          "data" : {
            "text\/plain" : [
              "2"
            ]
          },
          "output_type" : "execute_result",
          "execution_count" : 26
        }
      ]
    }
  ],
  "nbformat" : 4,
  "metadata" : {
    "language_info" : {
      "file_extension" : ".py",
      "codemirror_mode" : {
        "name" : "ipython",
        "version" : 3
      },
      "mimetype" : "text\/x-python",
      "pygments_lexer" : "ipython3",
      "version" : "3.7.4",
      "nbconvert_exporter" : "python",
      "name" : "python"
    },
    "nbTranslate" : {
      "displayLangs" : [
        "*"
      ],
      "sourceLang" : "en",
      "targetLang" : "fr",
      "langInMainMenu" : true,
      "useGoogleTranslate" : true,
      "hotkey" : "alt-t"
    },
    "kernelspec" : {
      "name" : "python3",
      "language" : "python",
      "display_name" : "Python 3"
    }
  }
}