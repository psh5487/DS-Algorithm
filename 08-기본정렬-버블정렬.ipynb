{
 "cells": [
  {
   "cell_type": "markdown",
   "metadata": {},
   "source": [
    "## 기본 정렬1: 버블 정렬 (Bubble Sort) "
   ]
  },
  {
   "cell_type": "markdown",
   "metadata": {},
   "source": [
    "### 1. 버블 정렬 (bubble sort) 과정\n",
    "* 인접한 데이터를 비교 \n",
    "* 앞에 있는 데이터가 뒤에 있는 데이터보다 크다면, 자리 바꾸기\n",
    "* 큰 값 데이터가 뒤로 몰리게 됨\n",
    "<img src=\"https://upload.wikimedia.org/wikipedia/commons/c/c8/Bubble-sort-example-300px.gif\" width=600>\n",
    "출처: https://en.wikipedia.org/wiki/Bubble_sort"
   ]
  },
  {
   "cell_type": "markdown",
   "metadata": {},
   "source": [
    "### 2. 알고리즘 구현"
   ]
  },
  {
   "cell_type": "code",
   "execution_count": 13,
   "metadata": {},
   "outputs": [],
   "source": [
    "def bubblesort(data):\n",
    "    for i in range(len(data)):\n",
    "        \n",
    "        # 이미 정렬된 데이터라면, 비교 과정 생략 \n",
    "        swap = False\n",
    "        \n",
    "        for j in range(len(data) - 1 - i):\n",
    "            if data[j] > data[j + 1]:\n",
    "                data[j], data[j + 1] = data[j + 1], data[j]\n",
    "                swap = True\n",
    "        \n",
    "        if swap == False:\n",
    "            break\n",
    "    \n",
    "    return data"
   ]
  },
  {
   "cell_type": "code",
   "execution_count": 14,
   "metadata": {},
   "outputs": [
    {
     "name": "stdout",
     "output_type": "stream",
     "text": [
      "[98, 42, 88, 76, 28, 24, 5, 33, 82, 3, 90, 86, 18, 73, 48]\n",
      "[3, 5, 18, 24, 28, 33, 42, 48, 73, 76, 82, 86, 88, 90, 98]\n",
      "[3, 5, 18, 24, 28, 33, 42, 48, 73, 76, 82, 86, 88, 90, 98]\n"
     ]
    }
   ],
   "source": [
    "import random\n",
    "data_list = random.sample(range(100), 15)\n",
    "\n",
    "print(data_list)\n",
    "print(sorted(data_list))\n",
    "print(bubblesort(data_list))"
   ]
  },
  {
   "cell_type": "markdown",
   "metadata": {},
   "source": [
    "### 3. 알고리즘 분석\n",
    "\n",
    "* 시간 복잡도\n",
    "    - worst: O($n^2$)\n",
    "    - best: O($n^2$)\n",
    "    \n",
    "* 특징 \n",
    "    - 구현이 쉬우나, 효율적이지 않은 알고리즘 "
   ]
  }
 ],
 "metadata": {
  "kernelspec": {
   "display_name": "Python 3",
   "language": "python",
   "name": "python3"
  },
  "language_info": {
   "codemirror_mode": {
    "name": "ipython",
    "version": 3
   },
   "file_extension": ".py",
   "mimetype": "text/x-python",
   "name": "python",
   "nbconvert_exporter": "python",
   "pygments_lexer": "ipython3",
   "version": "3.7.4"
  },
  "nbTranslate": {
   "displayLangs": [
    "*"
   ],
   "hotkey": "alt-t",
   "langInMainMenu": true,
   "sourceLang": "en",
   "targetLang": "fr",
   "useGoogleTranslate": true
  }
 },
 "nbformat": 4,
 "nbformat_minor": 1
}
