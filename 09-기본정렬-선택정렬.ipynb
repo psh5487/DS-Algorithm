{
 "cells": [
  {
   "cell_type": "markdown",
   "metadata": {},
   "source": [
    "## 기본 정렬2 : 선택 정렬 (Selection Sort) "
   ]
  },
  {
   "cell_type": "markdown",
   "metadata": {},
   "source": [
    "### 1. 선택 정렬 (selection sort) 과정\n",
    "\n",
    "1. **최솟값 선택**\n",
    "2. arr[0]과 교환\n",
    "3. 최솟값 찾기\n",
    "4. arr[1]과 교환\n",
    "5. 위 과정 반복\n",
    "\n",
    "<img src=\"https://upload.wikimedia.org/wikipedia/commons/9/94/Selection-Sort-Animation.gif\" width=100>\n",
    "\n",
    "출처: https://en.wikipedia.org/wiki/Selection_sort"
   ]
  },
  {
   "cell_type": "markdown",
   "metadata": {},
   "source": [
    "### 2. 알고리즘 구현"
   ]
  },
  {
   "cell_type": "markdown",
   "metadata": {},
   "source": [
    "* 최솟값 찾기 -> 최솟값을 가리키는 '인덱스' 찾기"
   ]
  },
  {
   "cell_type": "code",
   "execution_count": 3,
   "metadata": {},
   "outputs": [],
   "source": [
    "def selection_sort(data):\n",
    "    for i in range(len(data)):\n",
    "        lowest_index = i\n",
    "        \n",
    "        for j in range(i, len(data)):\n",
    "            if data[lowest_index] > data[j]:\n",
    "                lowest_index = j\n",
    "                \n",
    "        data[lowest_index], data[i] = data[i], data[lowest_index]\n",
    "        \n",
    "    return data"
   ]
  },
  {
   "cell_type": "code",
   "execution_count": 5,
   "metadata": {},
   "outputs": [
    {
     "name": "stdout",
     "output_type": "stream",
     "text": [
      "[49, 31, 64, 57, 99, 29, 35, 56, 37, 66]\n",
      "[29, 31, 35, 37, 49, 56, 57, 64, 66, 99]\n",
      "[29, 31, 35, 37, 49, 56, 57, 64, 66, 99]\n"
     ]
    }
   ],
   "source": [
    "import random\n",
    "data_list = random.sample(range(100), 10)\n",
    "\n",
    "print(data_list)\n",
    "print(sorted(data_list))\n",
    "print(selection_sort(data_list))"
   ]
  },
  {
   "cell_type": "markdown",
   "metadata": {},
   "source": [
    "### 3. 알고리즘 분석\n",
    "\n",
    "* 시간 복잡도 \n",
    "    * worst: O($n^2$)\n",
    "    * best: O($n^2$)  "
   ]
  },
  {
   "cell_type": "markdown",
   "metadata": {},
   "source": [
    "* 특징\n",
    "    * 시간 복잡도가 같더라도 버블 정렬보다는 빠른 편이다.\n",
    "    * Unstable"
   ]
  }
 ],
 "metadata": {
  "kernelspec": {
   "display_name": "Python 3",
   "language": "python",
   "name": "python3"
  },
  "language_info": {
   "codemirror_mode": {
    "name": "ipython",
    "version": 3
   },
   "file_extension": ".py",
   "mimetype": "text/x-python",
   "name": "python",
   "nbconvert_exporter": "python",
   "pygments_lexer": "ipython3",
   "version": "3.7.4"
  },
  "nbTranslate": {
   "displayLangs": [
    "*"
   ],
   "hotkey": "alt-t",
   "langInMainMenu": true,
   "sourceLang": "en",
   "targetLang": "fr",
   "useGoogleTranslate": true
  }
 },
 "nbformat": 4,
 "nbformat_minor": 1
}
